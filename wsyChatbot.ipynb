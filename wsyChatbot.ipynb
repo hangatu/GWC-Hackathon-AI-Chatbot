{
 "cells": [
  {
   "cell_type": "code",
   "execution_count": 4,
   "id": "0a27fb79",
   "metadata": {},
   "outputs": [],
   "source": [
    "API_KEY = \"2RT8mQ01jQmMrZwiHczy75cckYTP2Kii9McSvgDCGFJ8Q7P37vVwJQQJ99BJACYeBjFXJ3w3AAAAACOGxEp9\""
   ]
  },
  {
   "cell_type": "code",
   "execution_count": null,
   "id": "8c138dc0",
   "metadata": {},
   "outputs": [
    {
     "name": "stdout",
     "output_type": "stream",
     "text": [
      "Nice — Paris has a lot to offer. A few quick questions so I can tailor recommendations: how many days will you be there, what are your main interests (art, food, history, architecture, shopping, kids), and do you want classic sights or hidden/locals’ spots?\n",
      "\n",
      "Meanwhile, here are high‑value suggestions, practical tips, and sample itineraries.\n",
      "\n",
      "Top must-sees\n",
      "- Eiffel Tower — best seen at dusk (book tickets for summit or second floor in advance). Trocadéro offers great photo views.\n",
      "- Louvre — world’s largest art museum (Mona Lisa, Venus de Milo). Buy timed-entry tickets ahead, it’s closed Tuesdays.\n",
      "- Musée d’Orsay — Impressionist masterpieces in a former train station (closed Mondays).\n",
      "- Notre‑Dame & Île de la Cité — cathedral exterior (restoration ongoing), plus nearby Sainte‑Chapelle (stained glass).\n",
      "- Montmartre & Sacré‑Cœur — charming hilltop neighborhood, artists’ square, panoramic city views.\n",
      "- Champs‑Élysées & Arc de Triomphe — shopping and climb the Arc for a central view.\n",
      "- Le Marais — historic district, boutique shops, Jewish quarter, cafés, Picasso Museum.\n",
      "- Luxembourg Gardens — lovely park for relaxing, great for picnics.\n",
      "- Seine river cruise — especially pretty at sunset; hop-on/hop-off and dinner cruises available.\n",
      "- Centre Pompidou — modern art and rooftop views.\n",
      "- Musée Rodin & Musée de l’Orangerie — smaller but excellent, especially for Monet’s Water Lilies.\n",
      "- Père Lachaise Cemetery — graves of Jim Morrison, Oscar Wilde, and many others for a quieter stroll.\n",
      "\n",
      "Food & markets\n",
      "- Try croissants, baguette, cheese, charcuterie, macarons, and a café terrace for people-watching.\n",
      "- Markets: Marché d’Aligre, Rue Cler (near Eiffel), Marché Bastille (Sunday).\n",
      "- Bistro / brasserie for classic French dining; make reservations for popular places.\n",
      "\n",
      "Practical tips\n",
      "- Buy tickets for major attractions in advance (Eiffel Tower, Louvre, Sainte‑Chapelle).\n",
      "- Consider a Paris Museum Pass if you’ll visit many paid museums (saves time and money).\n",
      "- Use the metro — extensive and efficient. Get a carnet (10 tickets) or a Navigo pass if staying a week.\n",
      "- Watch out for pickpockets in crowded tourist areas and on public transport.\n",
      "- Many museums close one weekday (Louvre closed Tue, Orsay closed Mon); check opening days.\n",
      "- Best times: late spring and fall for mild weather and fewer crowds; early morning to beat lines.\n",
      "- Language: a few pleasantries in French go a long way (bonjour, s’il vous plaît, merci).\n",
      "\n",
      "Quick sample itineraries\n",
      "- 1 day (first-time): Morning — Louvre; Late morning — walk across Seine to Île de la Cité and Sainte‑Chapelle; Lunch in Latin Quarter; Afternoon — Musée d’Orsay or stroll Jardin du Luxembourg; Evening — Eiffel Tower at sunset and Seine cruise.\n",
      "- 3 days: Day 1 — Louvre, Tuileries, Champs‑Élysées & Arc de Triomphe; Day 2 — Montmartre & Sacré‑Cœur, then Le Marais; Day 3 — Musée d’Orsay, Latin Quarter, Notre‑Dame area and evening cruise or show (cabaret or jazz).\n",
      "- 5 days+: Add day trips to Versailles or Giverny, explore Canal Saint‑Martin, Musée Rodin, Père Lachaise, and shopping/food markets.\n",
      "\n",
      "Off‑the‑beaten‑path ideas\n",
      "- Promenade Plantée / Coulée Verte — elevated greenway that inspired NYC’s High Line.\n",
      "- Canal Saint‑Martin — laid‑back cafés and bridges, popular with locals.\n",
      "- Petite Ceinture — old railway line in parts reclaimed by nature (limited access).\n",
      "- Visit Belleville for street art and panoramic city views without the crowds.\n",
      "\n",
      "If you tell me your travel dates, length of stay, and interests I’ll build a compact daily plan with timings, transit tips, and restaurant suggestions.\n"
     ]
    }
   ],
   "source": [
    "import os\n",
    "from openai import AzureOpenAI\n",
    "\n",
    "endpoint = \"https://chr-umn-hackathon-resource.cognitiveservices.azure.com/\"\n",
    "model_name = \"gpt-5-mini\"\n",
    "deployment = \"gpt-5-mini\"\n",
    "\n",
    "subscription_key = \"2RT8mQ01jQmMrZwiHczy75cckYTP2Kii9McSvgDCGFJ8Q7P37vVwJQQJ99BJACYeBjFXJ3w3AAAAACOGxEp9\"\n",
    "api_version = \"2024-12-01-preview\"\n",
    "\n",
    "client = AzureOpenAI(\n",
    "    api_version=api_version,\n",
    "    azure_endpoint=endpoint,\n",
    "    api_key=subscription_key,\n",
    ")\n",
    "\n",
    "response = client.chat.completions.create(\n",
    "    messages=[\n",
    "        {\n",
    "            \"role\": \"system\",\n",
    "            \"content\": \"You are a helpful assistant.\",\n",
    "        },\n",
    "        {\n",
    "            \"role\": \"user\",\n",
    "            \"content\": \"I am going to Paris, what should I see?\",\n",
    "        }\n",
    "    ],\n",
    "    # max_completion_tokens=16384,\n",
    "    model=deployment\n",
    ")\n",
    "\n",
    "print(response.choices[0].message.content)\n"
   ]
  },
  {
   "cell_type": "code",
   "execution_count": 6,
   "id": "3512bd3c",
   "metadata": {},
   "outputs": [],
   "source": [
    "import os\n",
    "from openai import AzureOpenAI\n",
    "\n",
    "from typing import Annotated\n",
    "\n",
    "from langchain.chat_models import init_chat_model\n",
    "from typing_extensions import TypedDict\n",
    "\n",
    "from langgraph.graph import StateGraph, START, END\n",
    "from langgraph.graph.message import add_messages\n",
    "\n",
    "\n",
    "class State(TypedDict):\n",
    "    messages: Annotated[list, add_messages]\n",
    "\n",
    "\n",
    "graph_builder = StateGraph(State)\n",
    "\n",
    "os.environ[\"AZURE_OPENAI_API_KEY\"] = API_KEY\n",
    "os.environ[\"AZURE_OPENAI_ENDPOINT\"] = \"https://chr-umn-hackathon-resource.cognitiveservices.azure.com/\"\n",
    "os.environ[\"OPENAI_API_VERSION\"] = \"2025-03-01-preview\"\n",
    "os.environ[\"AZURE_OPENAI_DEPLOYMENT_NAME\"] = \"gpt-5-mini\"\n",
    "\n",
    "llm = init_chat_model(\n",
    "    \"azure_openai:gpt-5-mini\",\n",
    "    azure_deployment=os.environ[\"AZURE_OPENAI_DEPLOYMENT_NAME\"],\n",
    ")\n",
    "\n",
    "\n",
    "def chatbot(state: State):\n",
    "    return {\"messages\": [llm.invoke(state[\"messages\"])]}\n",
    "\n",
    "\n",
    "# The first argument is the unique node name\n",
    "# The second argument is the function or object that will be called whenever\n",
    "# the node is used.\n",
    "graph_builder.add_node(\"chatbot\", chatbot)\n",
    "graph_builder.add_edge(START, \"chatbot\")\n",
    "graph_builder.add_edge(\"chatbot\", END)\n",
    "graph = graph_builder.compile()"
   ]
  },
  {
   "cell_type": "code",
   "execution_count": 7,
   "id": "74d32042",
   "metadata": {},
   "outputs": [
    {
     "name": "stdout",
     "output_type": "stream",
     "text": [
      "No\n"
     ]
    }
   ],
   "source": [
    "from IPython.display import Image, display\n",
    "\n",
    "try:\n",
    "    display(Image(graph.get_graph().draw_mermaid_png()))\n",
    "except Exception:\n",
    "    # This requires some extra dependencies and is optional\n",
    "    print(\"No\")\n",
    "    pass"
   ]
  },
  {
   "cell_type": "code",
   "execution_count": 16,
   "id": "1dcb90ed",
   "metadata": {},
   "outputs": [
    {
     "name": "stdout",
     "output_type": "stream",
     "text": [
      "User: I want to loas from Atlanta, GA → Chicago, IL\n",
      "Assistant: Got it — Atlanta, GA → Chicago, IL. That route is roughly 710–730 driving miles (about 10–12 hours).\n",
      "\n",
      "I can start negotiating rates, but I need a few quick details first. Can you tell me:\n",
      "\n",
      "1) What’s the commodity and any special needs (reefer, hazmat, liftgate, palletized, fragile, etc.)?  \n",
      "2) Total weight, number of pieces/pallets, and dimensions if you have them.  \n",
      "3) Pickup date/time and required delivery date/window. Do you have a preferred equipment type (dry van, reefer, flatbed, step deck)?  \n",
      "4) What’s your target price (total or $/mile), or the best rate you’re willing to accept?\n",
      "\n",
      "Give me those and I’ll work the rates. If you don’t know something, just say so and I’ll advise what’s typical.\n",
      "Goodbye!\n"
     ]
    }
   ],
   "source": [
    "\n",
    "\n",
    "\n",
    "def stream_graph_updates(user_input: str):\n",
    "    print(\"User:\", user_input)\n",
    "    for event in graph.stream({\"messages\": [{\"role\": \"user\", \"content\": user_input},\n",
    "                                            {\"role\": \"system\",\n",
    "                                             \"content\": \"You are a helpful assistant that handle negotiating the rates to haul a load\"},\n",
    "                                             {\"role\": \"system\",\n",
    "                                              \"content\": '''The user shou tell you the load which include: depature place and detination;\n",
    "                                              Commodity and its special needs(like reefer required), weight,distance and target prize. If they\n",
    "                                              don't provide this, you shoud ask them to provide these information.\n",
    "                                                '''},\n",
    "                                            {\"role\":\"system\", \"content\":''' Please talk like a human, don't ask too much at a time'''}]}):\n",
    "        for value in event.values():\n",
    "            print(\"Assistant:\", value[\"messages\"][-1].content)\n",
    "\n",
    "\n",
    "while True:\n",
    "    try:\n",
    "        user_input = input(\"User: \")\n",
    "        if user_input.lower() in [\"quit\", \"exit\", \"q\"]:\n",
    "            print(\"Goodbye!\")\n",
    "            break\n",
    "        stream_graph_updates(user_input)\n",
    "    except:\n",
    "        # fallback if input() is not available\n",
    "        user_input = \"What do you know about LangGraph?\"\n",
    "        print(\"User: \" + user_input)\n",
    "        stream_graph_updates(user_input)\n",
    "        break"
   ]
  },
  {
   "cell_type": "code",
   "execution_count": null,
   "id": "7be26d57",
   "metadata": {},
   "outputs": [],
   "source": []
  }
 ],
 "metadata": {
  "kernelspec": {
   "display_name": "gwc",
   "language": "python",
   "name": "python3"
  },
  "language_info": {
   "codemirror_mode": {
    "name": "ipython",
    "version": 3
   },
   "file_extension": ".py",
   "mimetype": "text/x-python",
   "name": "python",
   "nbconvert_exporter": "python",
   "pygments_lexer": "ipython3",
   "version": "3.10.15"
  }
 },
 "nbformat": 4,
 "nbformat_minor": 5
}
